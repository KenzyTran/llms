{
 "cells": [
  {
   "cell_type": "markdown",
   "id": "fe12c203-e6a6-452c-a655-afb8a03a4ff5",
   "metadata": {},
   "source": [
    "# End of week 1 solution\n",
    "\n",
    "To demonstrate your familiarity with OpenAI API, and also Ollama, build a tool that takes a technical question,  \n",
    "and responds with an explanation. This is a tool that you will be able to use yourself during the course!\n",
    "\n",
    "After week 2 you'll be able to add a User Interface to this tool, giving you a valuable application."
   ]
  },
  {
   "cell_type": "code",
   "execution_count": 1,
   "id": "c1070317-3ed9-4659-abe3-828943230e03",
   "metadata": {},
   "outputs": [],
   "source": [
    "# imports\n",
    "\n",
    "from dotenv import load_dotenv\n",
    "from IPython.display import Markdown, display, update_display\n",
    "from openai import OpenAI\n",
    "import ollama"
   ]
  },
  {
   "cell_type": "code",
   "execution_count": 2,
   "id": "4a456906-915a-4bfd-bb9d-57e505c5093f",
   "metadata": {},
   "outputs": [],
   "source": [
    "# constants\n",
    "\n",
    "MODEL_GPT = 'gpt-4o-mini'\n",
    "MODEL_LLAMA = 'llama3.2'"
   ]
  },
  {
   "cell_type": "code",
   "execution_count": 3,
   "id": "a8d7923c-5f28-4c30-8556-342d7c8497c1",
   "metadata": {},
   "outputs": [],
   "source": [
    "# set up environment\n",
    "\n",
    "load_dotenv()\n",
    "openai = OpenAI()\n"
   ]
  },
  {
   "cell_type": "code",
   "execution_count": 4,
   "id": "3f0d0137-52b0-47a8-81a8-11a90a010798",
   "metadata": {},
   "outputs": [],
   "source": [
    "# here is the question; type over this to ask something new\n",
    "\n",
    "question = \"\"\"\n",
    "Please explain what this code does and why:\n",
    "yield from {book.get(\"author\") for book in books if book.get(\"author\")}\n",
    "\"\"\""
   ]
  },
  {
   "cell_type": "code",
   "execution_count": 5,
   "id": "8595807b-8ae2-4e1b-95d9-e8532142e8bb",
   "metadata": {},
   "outputs": [],
   "source": [
    "# prompts\n",
    "\n",
    "system_prompt = \"You are a helpful technical tutor who answers questions about python code, software engineering, data science and LLMs\"\n",
    "user_prompt = \"Please give a detailed explanation to the following question: \" + question"
   ]
  },
  {
   "cell_type": "code",
   "execution_count": 6,
   "id": "9605cbb6-3d3f-4969-b420-7f4cae0b9328",
   "metadata": {},
   "outputs": [],
   "source": [
    "# messages\n",
    "\n",
    "messages = [\n",
    "    {\"role\": \"system\", \"content\": system_prompt},\n",
    "    {\"role\": \"user\", \"content\": user_prompt}\n",
    "]"
   ]
  },
  {
   "cell_type": "code",
   "execution_count": 7,
   "id": "60ce7000-a4a5-4cce-a261-e75ef45063b4",
   "metadata": {},
   "outputs": [
    {
     "data": {
      "text/markdown": [
       "Sure! Let's break down the code snippet you provided step-by-step to understand what it does.\n",
       "\n",
       "### Code Breakdown\n",
       "\n",
       "python\n",
       "yield from {book.get(\"author\") for book in books if book.get(\"author\")}\n",
       "\n",
       "\n",
       "#### 1. **Context of `yield from`**\n",
       "\n",
       "The `yield from` keyword is used within a generator function in Python. It is a way of delegating part of the generator's operations to another generator (or iterable). When you use `yield from` followed by an iterable, it will yield all values from that iterable one by one. This can simplify the code and make it clearer when the generator needs to yield values from another iterable.\n",
       "\n",
       "#### 2. **Set Comprehension**\n",
       "\n",
       "Inside the `yield from`, we see a set comprehension:\n",
       "\n",
       "python\n",
       "{book.get(\"author\") for book in books if book.get(\"author\")}\n",
       "\n",
       "\n",
       "- **Set Creation**: This creates a set of unique authors extracted from a list (or other iterable) called `books`.\n",
       "- **Iteration**: For each `book` in the `books` iterable:\n",
       "    - `book.get(\"author\")` retrieves the value associated with the \"author\" key in the `book` dictionary.\n",
       "    - `if book.get(\"author\")` acts as a condition to ensure that only those books that actually have an author are considered. This means that if `book.get(\"author\")` returns `None` (or evaluates to `False`), that book will be excluded from the final set.\n",
       "  \n",
       "#### 3. **Why Use a Set?**\n",
       "\n",
       "Using a set `{...}` instead of a list `[...]` has the consequence that:\n",
       "- Each author will only appear once in the output. This is important if `books` contains multiple entries with the same author, as the set will automatically handle duplicates.\n",
       "  \n",
       "#### 4. **Final Yielding Process**\n",
       "\n",
       "After the set has been generated, `yield from` will take each element from the set (which represents unique authors) and yield them one at a time. This allows the consumer of this generator function to iterate through all unique authors.\n",
       "\n",
       "### Putting It All Together\n",
       "\n",
       "In summary, the overall functionality of the code can be described as follows:\n",
       "\n",
       "- It iterates through a collection of `books`.\n",
       "- For each book, it tries to extract the author's name using a dictionary lookup.\n",
       "- It filters out any books that do not have an author.\n",
       "- It creates a set of unique author names (to remove duplicates).\n",
       "- Finally, it yields these unique author names one by one.\n",
       "\n",
       "### Example\n",
       "\n",
       "Consider an example list of books represented as dictionaries:\n",
       "\n",
       "python\n",
       "books = [\n",
       "    {\"title\": \"Book 1\", \"author\": \"Alice\"},\n",
       "    {\"title\": \"Book 2\", \"author\": \"Bob\"},\n",
       "    {\"title\": \"Book 3\", \"author\": None},\n",
       "    {\"title\": \"Book 4\", \"author\": \"Alice\"},\n",
       "    {\"title\": \"Book 5\", \"author\": \"Carol\"},\n",
       "]\n",
       "\n",
       "\n",
       "If we apply the code:\n",
       "\n",
       "python\n",
       "# Assuming a generator function definition\n",
       "def get_authors(books):\n",
       "    yield from {book.get(\"author\") for book in books if book.get(\"author\")}\n",
       "\n",
       "\n",
       "Calling `list(get_authors(books))` will yield:\n",
       "\n",
       "python\n",
       "['Alice', 'Bob', 'Carol']\n",
       "\n",
       "\n",
       "Note that \"Alice\" appears only once in the output due to the nature of sets.\n",
       "\n",
       "### Conclusion\n",
       "\n",
       "This code snippet efficiently extracts and yields unique author names from a list of book dictionaries using a Python generator, which can be very useful for processing large datasets without needing to store all results simultaneously in memory."
      ],
      "text/plain": [
       "<IPython.core.display.Markdown object>"
      ]
     },
     "metadata": {},
     "output_type": "display_data"
    }
   ],
   "source": [
    "# Get gpt-4o-mini to answer, with streaming\n",
    "\n",
    "stream = openai.chat.completions.create(model=MODEL_GPT, messages=messages,stream=True)\n",
    "    \n",
    "response = \"\"\n",
    "display_handle = display(Markdown(\"\"), display_id=True)\n",
    "for chunk in stream:\n",
    "    response += chunk.choices[0].delta.content or ''\n",
    "    response = response.replace(\"```\",\"\").replace(\"markdown\", \"\")\n",
    "    update_display(Markdown(response), display_id=display_handle.display_id)"
   ]
  },
  {
   "cell_type": "code",
   "execution_count": 8,
   "id": "8f7c8ea8-4082-4ad0-8751-3301adcf6538",
   "metadata": {},
   "outputs": [
    {
     "data": {
      "text/markdown": [
       "**Breaking Down the Code**\n",
       "\n",
       "This line of code uses several advanced Python features, including generators, dictionary iteration, and `yield from`. Let's break it down step by step.\n",
       "\n",
       "```python\n",
       "{book.get(\"author\") for book in books if book.get(\"author\")}\n",
       "```\n",
       "\n",
       "This part is a **dict comprehension**, which creates a new dictionary (in this case) with filtered key-value pairs. Here's what's happening:\n",
       "\n",
       "1. `for book in books`: This iterates over the `books` iterable, assuming it's a collection of dictionaries.\n",
       "2. `if book.get(\"author\")`: This filters out any `book` dictionary that doesn't have an `\"author\"` key or value (`None`, `\"\"`, etc.). The `.get()` method returns the value for the given key, defaulting to `None` if the key is not found.\n",
       "3. `book.get(\"author\")`: If the condition is true (i.e., the book has an `\"author\"`), this extracts the value associated with that key from the dictionary.\n",
       "\n",
       "Now, let's introduce the **yield from** part:\n",
       "\n",
       "```python\n",
       "yield from {book.get(\"author\") for book in books if book.get(\"author\")}\n",
       "```\n",
       "\n",
       "This is where things get interesting. The `yield from` syntax was introduced in Python 3.3 as a way to delegate the iteration over a sub-iterable (like our dict comprehension) to another iterable.\n",
       "\n",
       "In essence, when you use `yield from`, the code:\n",
       "\n",
       "1. Iterates over the **sub-iterable** (`{book.get(\"author\") for book in books if book.get(\"author\")}`): This is where we're iterating over the author names.\n",
       "2. Yields each item from that sub-iterable to the surrounding caller.\n",
       "\n",
       "So, what does this mean in practice?\n",
       "\n",
       "**Resulting Iterator**\n",
       "\n",
       "When you use `yield from`, the resulting iterator yields all items from the original iterable (the sub-iterable). In this case:\n",
       "\n",
       "* Each book dictionary in `books` contributes an author name.\n",
       "* The iteration is filtered to only include books with an `\"author\"` key.\n",
       "\n",
       "The iterator will produce a sequence of authors, one by one, yielding each author name as it's encountered during the iteration.\n",
       "\n",
       "**Example Use Case**\n",
       "\n",
       "To illustrate this, consider you have a list of book dictionaries:\n",
       "```python\n",
       "books = [\n",
       "    {\"title\": \"Book 1\", \"author\": \"John\"},\n",
       "    {\"title\": \"Book 2\", \"author\": None},\n",
       "    {\"title\": \"Book 3\", \"author\": \"Jane\"}\n",
       "]\n",
       "```\n",
       "\n",
       "Running the code with `yield from` will produce an iterator over the author names:\n",
       "```python\n",
       "for author in yield from {book.get(\"author\") for book in books if book.get(\"author\")}:\n",
       "    print(author)\n",
       "# Output:\n",
       "# John\n",
       "# Jane\n",
       "```\n",
       "As you can see, only authors are yielded, filtering out any books without one.\n",
       "\n",
       "This code is useful when you need to process dictionaries or other iterable collections of data while applying some filters. The `yield from` syntax makes it easy to delegate iteration over a sub-iterable to another iterable, creating an iterator that yields items from the original collection after filtering them."
      ],
      "text/plain": [
       "<IPython.core.display.Markdown object>"
      ]
     },
     "metadata": {},
     "output_type": "display_data"
    }
   ],
   "source": [
    "# Get Llama 3.2 to answer\n",
    "\n",
    "response = ollama.chat(model=MODEL_LLAMA, messages=messages)\n",
    "reply = response['message']['content']\n",
    "display(Markdown(reply))"
   ]
  },
  {
   "cell_type": "markdown",
   "id": "7e14bcdb-b928-4b14-961e-9f7d8c7335bf",
   "metadata": {},
   "source": [
    "# Congratulations!\n",
    "\n",
    "You could make it better by taking in the question using  \n",
    "`my_question = input(\"Please enter your question:\")`\n",
    "\n",
    "And then creating the prompts and making the calls interactively."
   ]
  },
  {
   "cell_type": "code",
   "execution_count": null,
   "id": "da663d73-dd2a-4fff-84df-2209cf2b330b",
   "metadata": {},
   "outputs": [],
   "source": []
  }
 ],
 "metadata": {
  "kernelspec": {
   "display_name": "Python 3 (ipykernel)",
   "language": "python",
   "name": "python3"
  },
  "language_info": {
   "codemirror_mode": {
    "name": "ipython",
    "version": 3
   },
   "file_extension": ".py",
   "mimetype": "text/x-python",
   "name": "python",
   "nbconvert_exporter": "python",
   "pygments_lexer": "ipython3",
   "version": "3.11.11"
  }
 },
 "nbformat": 4,
 "nbformat_minor": 5
}
